{
 "cells": [
  {
   "cell_type": "markdown",
   "metadata": {},
   "source": [
    "#Kinetics Tool Kit Practice\n",
    "#Creating Array using Zeros and Ones"
   ]
  },
  {
   "cell_type": "code",
   "execution_count": 30,
   "metadata": {},
   "outputs": [],
   "source": [
    "#Using one line of code, create a NumPy array named force that contains this series of zeros\n",
    "import numpy as np\n",
    "import matplotlib.pyplot as plt\n",
    "import kineticstoolkit as ktk\n",
    "import kineticstoolkit.lab as ktk\n",
    "\n",
    "Fs = 100.0\n",
    "t = 2.50\n",
    "Ns = Fs*t\n",
    "\n",
    "force = np.zeros((1,250))\n",
    "\n",
    "#Using one line of code, create a 15x3 matrix that contains only ones\n",
    "m_15x3 = np.ones((15,3))\n",
    "\n",
    "#Creating uniformly-spaced array (using np.arange and linspace)\n",
    "mat_1a = np.arange(0.0,0.6,0.1) #Using arange is from first_argument up to but excluding the second_argument and with range of third_argument\n",
    "mat_1b = np.linspace(0.0,0.5,6) #Using linspace is from first_argument up to second_argument contains the third_argument\n",
    "\n",
    "time = np.linspace(0.0,t,int(Ns+1))\n",
    "\n"
   ]
  }
 ],
 "metadata": {
  "kernelspec": {
   "display_name": "base",
   "language": "python",
   "name": "python3"
  },
  "language_info": {
   "codemirror_mode": {
    "name": "ipython",
    "version": 3
   },
   "file_extension": ".py",
   "mimetype": "text/x-python",
   "name": "python",
   "nbconvert_exporter": "python",
   "pygments_lexer": "ipython3",
   "version": "3.11.4"
  }
 },
 "nbformat": 4,
 "nbformat_minor": 2
}
