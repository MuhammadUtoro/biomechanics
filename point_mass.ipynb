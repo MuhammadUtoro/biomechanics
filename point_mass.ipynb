{
 "cells": [
  {
   "cell_type": "markdown",
   "metadata": {},
   "source": [
    "# Practicing the OpenSim Library - Building a model of a point mass.\n",
    "# Tutorial from OpenSim youtube channel: https://www.youtube.com/watch?v=CPx0JzxIBKc&list=PLGBiefGDmSuR5NbZFuGOrjnTBx--H-H3C&index=3 \n",
    "# This tutorial is the python version while the webinar used Matlab to script "
   ]
  },
  {
   "cell_type": "markdown",
   "metadata": {},
   "source": [
    "<!-- Importing and creating an empty model -->"
   ]
  },
  {
   "cell_type": "code",
   "execution_count": 1,
   "metadata": {},
   "outputs": [],
   "source": [
    "# Importing OpenSim module/library\n",
    "import opensim as osim\n",
    "\n",
    "# Creating model instance from Model class\n",
    "ptmass = osim.Model()"
   ]
  },
  {
   "cell_type": "markdown",
   "metadata": {},
   "source": [
    "<!-- Creating body with parameters, adding geometry, and add body to the model -->"
   ]
  },
  {
   "cell_type": "code",
   "execution_count": 2,
   "metadata": {},
   "outputs": [],
   "source": [
    "# Create a body with mass 1kg\n",
    "# The arguments are: name, mass, CoM (0 means origin), and inertia matrix\n",
    "body = osim.Body('body', 1.0, osim.Vec3(0), osim.Inertia(0))\n",
    "\n",
    "# Creating geometry for the body - body does not habe any visualization\n",
    "body.attachGeometry(osim.Sphere(0.1)) # Radius 0.1 m\n",
    "\n",
    "# Adding the body to the model (ptmass)\n",
    "ptmass.addBody(body)"
   ]
  },
  {
   "cell_type": "markdown",
   "metadata": {},
   "source": [
    "<!-- Adding joint type and adding joint to the model -->"
   ]
  },
  {
   "cell_type": "code",
   "execution_count": 3,
   "metadata": {},
   "outputs": [],
   "source": [
    "# Adding joint to the model (ptmass) - in this case slider joint\n",
    "# The arguments are: name, parent body, and child body\n",
    "sldr_jnt = osim.SliderJoint('sldr_jnt', ptmass.getGround(), body)\n",
    "coord = sldr_jnt.updCoordinate()\n",
    "coord.setName('translation')\n",
    "\n",
    "# Adding the joint to the model (ptmass)\n",
    "ptmass.addJoint(sldr_jnt)"
   ]
  },
  {
   "cell_type": "markdown",
   "metadata": {},
   "source": [
    "<!-- Adding actuator (force) and adding force to the model -->"
   ]
  },
  {
   "cell_type": "code",
   "execution_count": 4,
   "metadata": {},
   "outputs": [],
   "source": [
    "# Actuating (as Force) the model - we use CoordinateActuator. The argument is the name of the coordinate (translation)\n",
    "actuator = osim.CoordinateActuator('translation')\n",
    "actuator.setName('actuator') # setting the actuator name\n",
    "\n",
    "# Adding the force the model (ptMass)\n",
    "ptmass.addForce(actuator)"
   ]
  },
  {
   "cell_type": "markdown",
   "metadata": {},
   "source": [
    "<!-- Adding prescribed controller and add it into the actuator. Prescribing the control to the actuator -->"
   ]
  },
  {
   "cell_type": "code",
   "execution_count": 5,
   "metadata": {},
   "outputs": [],
   "source": [
    "# Adding the prescribed controller - apply controls that are a function of time only\n",
    "controller = osim.PrescribedController()\n",
    "controller.addActuator(actuator) # adding the coordinate actuator to the controller\n",
    "\n",
    "# Prescribing the control to the actuator. The arguments are: name and the function\n",
    "controller.prescribeControlForActuator('actuator', osim.Sine()) \n",
    "\n",
    "# Adding the controller to the model (ptmass)\n",
    "ptmass.addController(controller)"
   ]
  },
  {
   "cell_type": "markdown",
   "metadata": {},
   "source": [
    "<!-- Finalising the model and saving the model into .XML file -->"
   ]
  },
  {
   "cell_type": "code",
   "execution_count": null,
   "metadata": {},
   "outputs": [],
   "source": [
    "# Creating and saving the model as an osim file (.osim)\n",
    "ptmass.finalizeConnections()\n",
    "ptmass.printToXML('ptmass_model.osim')"
   ]
  },
  {
   "cell_type": "markdown",
   "metadata": {},
   "source": [
    "<!-- Conducting a Simulation. The steps are:\n",
    "1-Enabling API visualizer window\n",
    "2-Prepare the model for simulation. Initialise the internal \"System\" -->"
   ]
  },
  {
   "cell_type": "code",
   "execution_count": 7,
   "metadata": {},
   "outputs": [],
   "source": [
    "# Simulate the model\n",
    "ptmass.setUseVisualizer(True) # Enabling the visualizer\n",
    "initState = ptmass.initSystem() # Initialising the internal \"System\""
   ]
  },
  {
   "cell_type": "markdown",
   "metadata": {},
   "source": [
    "<!-- OpenSim has two most important classes, Model (System) and State. The model (system) represents the mathematical equation and the state represents variables which are time-varying (coordinates, velocity, muscle states, etc). For more detail info, please check the webinar by clicking the link provided above -->"
   ]
  },
  {
   "cell_type": "code",
   "execution_count": null,
   "metadata": {},
   "outputs": [],
   "source": [
    "# state object has the function getY, which is crucial\n",
    "print(initState.getY()) # getY() returns a vector containing all state variables values\n",
    "finalState = osim.simulate(ptmass, initState, 1.5)"
   ]
  },
  {
   "cell_type": "markdown",
   "metadata": {},
   "source": [
    "<!-- Analysing a simulation\n",
    "1-Get the final position of the point mass\n",
    "2-Get the final CoM position of the point mass\n",
    "3-Get the joint reaction moments and forces\n",
    "For more detail of the explanation regarding the result printed, please check the tutorial video -->"
   ]
  },
  {
   "cell_type": "code",
   "execution_count": 13,
   "metadata": {},
   "outputs": [
    {
     "name": "stdout",
     "output_type": "stream",
     "text": [
      "0.5028553322349781\n",
      "~[0.502855,0,0]\n",
      "~[~[-0,0,-4.93133],~[-0.997495,-9.80665,-0]]\n"
     ]
    }
   ],
   "source": [
    "print(coord.getValue(finalState)) # final position of the ptmass. Returns coordinate\n",
    "ptmass.realizePosition(finalState)\n",
    "print(ptmass.calcMassCenterPosition(finalState))\n",
    "ptmass.realizeAcceleration(finalState)\n",
    "print(sldr_jnt.calcReactionOnParentExpressedInGround(finalState))"
   ]
  }
 ],
 "metadata": {
  "kernelspec": {
   "display_name": "base",
   "language": "python",
   "name": "python3"
  },
  "language_info": {
   "codemirror_mode": {
    "name": "ipython",
    "version": 3
   },
   "file_extension": ".py",
   "mimetype": "text/x-python",
   "name": "python",
   "nbconvert_exporter": "python",
   "pygments_lexer": "ipython3",
   "version": "3.11.5"
  }
 },
 "nbformat": 4,
 "nbformat_minor": 2
}
