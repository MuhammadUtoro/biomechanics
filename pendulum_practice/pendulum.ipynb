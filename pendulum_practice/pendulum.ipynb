{
 "cells": [
  {
   "cell_type": "markdown",
   "metadata": {},
   "source": [
    "## Practicing OpenSim Library with Python - Creating a simple pendulum"
   ]
  },
  {
   "cell_type": "markdown",
   "metadata": {},
   "source": [
    "## Importing package"
   ]
  },
  {
   "cell_type": "code",
   "execution_count": 73,
   "metadata": {},
   "outputs": [],
   "source": [
    "import opensim as osim\n",
    "import matplotlib.pyplot as plot\n",
    "import numpy as np"
   ]
  },
  {
   "cell_type": "markdown",
   "metadata": {},
   "source": [
    "## Creating model instance from Model() class"
   ]
  },
  {
   "cell_type": "code",
   "execution_count": 74,
   "metadata": {},
   "outputs": [],
   "source": [
    "pendulum = osim.Model()"
   ]
  },
  {
   "cell_type": "markdown",
   "metadata": {},
   "source": [
    "## Creating bodies with parameters, adding geometry, and attaching bodies to the model"
   ]
  },
  {
   "cell_type": "code",
   "execution_count": 75,
   "metadata": {},
   "outputs": [],
   "source": [
    "ball_1 = osim.Body('Ball_1', 1, osim.Vec3(0), osim.Inertia(0))\n",
    "ball_1.attachGeometry(osim.Sphere(0.1))\n",
    "pendulum.addBody(ball_1)\n"
   ]
  },
  {
   "cell_type": "markdown",
   "metadata": {},
   "source": [
    "## Adding joint type and attaching joint to the model"
   ]
  },
  {
   "cell_type": "code",
   "execution_count": 76,
   "metadata": {},
   "outputs": [],
   "source": [
    "jointA = osim.PinJoint('Pin_JointA', pendulum.getGround(), osim.Vec3(0,0,0), osim.Vec3(0), ball_1, osim.Vec3(0.5,0.5,0), osim.Vec3(0))\n",
    "coordA = jointA.updCoordinate()\n",
    "coordA.setName('Fixed')\n",
    "pendulum.addJoint(jointA)\n"
   ]
  },
  {
   "cell_type": "markdown",
   "metadata": {},
   "source": [
    "## Adding actuator (force) and attaching force to the model"
   ]
  },
  {
   "cell_type": "code",
   "execution_count": 77,
   "metadata": {},
   "outputs": [],
   "source": [
    "actuator = osim.CoordinateActuator()\n",
    "actuator.setName('Rotator')\n",
    "actuator.setCoordinate(coordA)\n",
    "pendulum.addForce(actuator)\n"
   ]
  },
  {
   "cell_type": "markdown",
   "metadata": {},
   "source": [
    "## Adding prescribed controller and add it into the actuator. Prescribing the control to the actuator"
   ]
  },
  {
   "cell_type": "code",
   "execution_count": 78,
   "metadata": {},
   "outputs": [],
   "source": [
    "controller = osim.PrescribedController()\n",
    "controller.addActuator(actuator)\n",
    "controller.prescribeControlForActuator('Rotator', osim.Sine(0.5, 0.5, 0))\n",
    "pendulum.addController(controller)\n"
   ]
  },
  {
   "cell_type": "markdown",
   "metadata": {},
   "source": [
    "## Finalising the model and saving the model into .XML file"
   ]
  },
  {
   "cell_type": "code",
   "execution_count": 79,
   "metadata": {},
   "outputs": [
    {
     "data": {
      "text/plain": [
       "True"
      ]
     },
     "execution_count": 79,
     "metadata": {},
     "output_type": "execute_result"
    }
   ],
   "source": [
    "pendulum.finalizeConnections()\n",
    "pendulum.printToXML('pendulum.osim')"
   ]
  },
  {
   "cell_type": "markdown",
   "metadata": {},
   "source": [
    "## Performing Simulation step 1: Enabling Visualizer and Initiating System"
   ]
  },
  {
   "cell_type": "code",
   "execution_count": 80,
   "metadata": {},
   "outputs": [],
   "source": [
    "pendulum.setUseVisualizer(True)\n",
    "initState = pendulum.initSystem()\n",
    "# jointA.getCoordinate().setLocked(initState, True)"
   ]
  },
  {
   "cell_type": "markdown",
   "metadata": {},
   "source": [
    "## Performing Simulation step 2: Starting the simulation"
   ]
  },
  {
   "cell_type": "code",
   "execution_count": 81,
   "metadata": {},
   "outputs": [],
   "source": [
    "# initState.getValue()\n",
    "finalState = osim.simulate(pendulum, initState, 10.0)\n",
    "# manager = osim.Manager(pendulum)\n",
    "# time = np.arange(0.0, 5.0, 0.01)\n",
    "# manager.integrate(initState)\n",
    "# visualizer = pendulum.updVisualizer().updSimbodyVisualizer()\n",
    "\n",
    "# Plot the results\n",
    "# visualizer.plot(initState,5.0)\n",
    "# plot.show()"
   ]
  }
 ],
 "metadata": {
  "kernelspec": {
   "display_name": "base",
   "language": "python",
   "name": "python3"
  },
  "language_info": {
   "codemirror_mode": {
    "name": "ipython",
    "version": 3
   },
   "file_extension": ".py",
   "mimetype": "text/x-python",
   "name": "python",
   "nbconvert_exporter": "python",
   "pygments_lexer": "ipython3",
   "version": "3.11.5"
  }
 },
 "nbformat": 4,
 "nbformat_minor": 2
}
